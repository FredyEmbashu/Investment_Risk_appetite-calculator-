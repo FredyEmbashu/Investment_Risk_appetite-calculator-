{
  "nbformat": 4,
  "nbformat_minor": 0,
  "metadata": {
    "colab": {
      "provenance": [],
      "toc_visible": true,
      "authorship_tag": "ABX9TyPOuZdXLI08d2Oj/Js+QdKV",
      "include_colab_link": true
    },
    "kernelspec": {
      "name": "python3",
      "display_name": "Python 3"
    },
    "language_info": {
      "name": "python"
    }
  },
  "cells": [
    {
      "cell_type": "markdown",
      "metadata": {
        "id": "view-in-github",
        "colab_type": "text"
      },
      "source": [
        "<a href=\"https://colab.research.google.com/github/FredyEmbashu/Investment_Risk_appetite-calculator-/blob/main/STRATUS_Risk.ipynb\" target=\"_parent\"><img src=\"https://colab.research.google.com/assets/colab-badge.svg\" alt=\"Open In Colab\"/></a>"
      ]
    },
    {
      "cell_type": "code",
      "execution_count": null,
      "metadata": {
        "colab": {
          "base_uri": "https://localhost:8080/"
        },
        "id": "_fY1IJJiqJVB",
        "outputId": "97764461-299a-4078-a235-d1a47b1dfa15"
      },
      "outputs": [
        {
          "output_type": "stream",
          "name": "stdout",
          "text": [
            "Mounted at /content/drive\n"
          ]
        }
      ],
      "source": [
        "from google.colab import drive\n",
        "drive.mount('/content/drive')"
      ]
    },
    {
      "cell_type": "markdown",
      "source": [
        "**Install all packages here.** *italicised text*"
      ],
      "metadata": {
        "id": "JcEC1XKJqJVX"
      }
    },
    {
      "cell_type": "code",
      "source": [
        "import plotly.graph_objects as go\n",
        "import pandas as pd\n",
        "#df = pd.read('/content/drive/MyDrive/Stratus Fund Managers risk appetite form (Responses).gsheet')"
      ],
      "metadata": {
        "id": "1I5bjCLQqzJs"
      },
      "execution_count": null,
      "outputs": []
    },
    {
      "cell_type": "code",
      "source": [
        "from google.colab import auth\n",
        "auth.authenticate_user()\n"
      ],
      "metadata": {
        "id": "cf9Hlrvjsrp_"
      },
      "execution_count": null,
      "outputs": []
    },
    {
      "cell_type": "code",
      "source": [
        "import gspread\n",
        "from google.auth import default\n",
        "creds, _ = default()"
      ],
      "metadata": {
        "id": "3qljZtzosxqC"
      },
      "execution_count": null,
      "outputs": []
    },
    {
      "cell_type": "code",
      "source": [
        "gc = gspread.authorize(creds)\n"
      ],
      "metadata": {
        "id": "EedXFRVVs0_b"
      },
      "execution_count": null,
      "outputs": []
    },
    {
      "cell_type": "code",
      "source": [
        "from google.colab import data_table\n",
        "data_table.enable_dataframe_formatter()\n",
        "import gspread\n",
        "from gspread.exceptions import WorksheetNotFound"
      ],
      "metadata": {
        "id": "NNvP0L4t0kUQ"
      },
      "execution_count": null,
      "outputs": []
    },
    {
      "cell_type": "code",
      "source": [
        "# read data and put it in a dataframe\n",
        "gsheets = gc.open_by_url('https://docs.google.com/spreadsheets/d/19krrI-BQoob8OFTfnklgUIVemolBE74fa6SObuPuvZI/edit?usp=share_link')"
      ],
      "metadata": {
        "id": "fJ6H4C3ItZQZ"
      },
      "execution_count": null,
      "outputs": []
    },
    {
      "cell_type": "code",
      "source": [
        "sheets = gsheets.worksheet('Form Responses 1').get_all_values()\n",
        "\n",
        "# Get the header row\n",
        "header_row = sheets[0]\n",
        "# Check if \"Score\" is in the header row\n",
        "if \"Score\" not in header_row:\n",
        "    # If \"Score\" is not in the header row, add it\n",
        "    header_row.append(\"Score\")\n",
        "    # Update the worksheet with the new header row\n",
        "    sheets.update(\"0:0\", [header_row])\n",
        "# Get the index of the \"Score\" column\n",
        "score_index = header_row.index(\"Score\")\n",
        "# Filter rows that don't have entries in the \"Score\" column\n",
        "filtered_sheets = [row for row in sheets[1:] if not row[score_index]]\n",
        "\n",
        "# Choose user\n",
        "#print(header_row)\n",
        "data_table.DataTable(pd.DataFrame(filtered_sheets), include_index=True)\n",
        "# Convert Age to integer\n",
        "data_1 = pd.DataFrame(filtered_sheets)\n",
        "data_1.iloc[:, 2] = data_1.iloc[:, 2].astype(int)\n",
        "data_1.columns=header_row\n",
        "data_1"
      ],
      "metadata": {
        "id": "PbrNvlqbthvb",
        "colab": {
          "base_uri": "https://localhost:8080/",
          "height": 252
        },
        "outputId": "bfbc024e-c4f9-417c-c3da-c403e3d47e73"
      },
      "execution_count": null,
      "outputs": [
        {
          "output_type": "stream",
          "name": "stderr",
          "text": [
            "<ipython-input-9-c45ffd30969e>:21: DeprecationWarning: In a future version, `df.iloc[:, i] = newvals` will attempt to set the values inplace instead of always setting a new array. To retain the old behavior, use either `df[df.columns[i]] = newvals` or, if columns are non-unique, `df.isetitem(i, newvals)`\n",
            "  data_1.iloc[:, 2] = data_1.iloc[:, 2].astype(int)\n"
          ]
        },
        {
          "output_type": "execute_result",
          "data": {
            "text/plain": [
              "            Timestamp             Email Address  Age   Source of wealth  \\\n",
              "0  4/20/2023 12:24:25     liaanburger@gmail.com   23  Salaried employee   \n",
              "1  4/28/2023 10:56:23  embashul.fredy@gmail.com   23  Salaried employee   \n",
              "\n",
              "  Do you perceive your wealth as small or considerable?  \\\n",
              "0                                              Small      \n",
              "1                                              Small      \n",
              "\n",
              "  What experience do you have with investing?  \\\n",
              "0                                Intermediate   \n",
              "1                                Intermediate   \n",
              "\n",
              "  Do you actively do research on investment opportunities?  \\\n",
              "0                                          Sometimes         \n",
              "1                                          Sometimes         \n",
              "\n",
              "  Do you follow the latest investment trends?  \\\n",
              "0                                   Sometimes   \n",
              "1                                   Sometimes   \n",
              "\n",
              "  What is the time frame you are looking for in an investment?  \\\n",
              "0                                         10 + years             \n",
              "1                                        3 – 5 years             \n",
              "\n",
              "  Do you plan on any major expenses in the future (Vacation, home, car etc.)  \\\n",
              "0                                                Yes                           \n",
              "1                                                Yes                           \n",
              "\n",
              "  What is your monthly cashflow need?  \\\n",
              "0  Between N$10,000-00 to N$30,000-00   \n",
              "1  Between N$10,000-00 to N$30,000-00   \n",
              "\n",
              "  Protecting my portfolio is more important to me than getting high returns.  \\\n",
              "0                                           Disagree                           \n",
              "1                                              Agree                           \n",
              "\n",
              "  Keeping the above answer in mind which of the following statements do you relate most to?  \\\n",
              "0  I am willing to accept losses in order to maxi...                                          \n",
              "1  I am willing to accept losses in order to maxi...                                          \n",
              "\n",
              "  Which statement describes your personal investment attitude? Score  \n",
              "0  I am seeking extremely high returns with my in...                  \n",
              "1           I am comfortable with stable investments                  "
            ],
            "text/html": [
              "\n",
              "  <div id=\"df-452e414b-dd65-4f0b-98ad-60d1840a0892\">\n",
              "    <div class=\"colab-df-container\">\n",
              "      <div>\n",
              "<style scoped>\n",
              "    .dataframe tbody tr th:only-of-type {\n",
              "        vertical-align: middle;\n",
              "    }\n",
              "\n",
              "    .dataframe tbody tr th {\n",
              "        vertical-align: top;\n",
              "    }\n",
              "\n",
              "    .dataframe thead th {\n",
              "        text-align: right;\n",
              "    }\n",
              "</style>\n",
              "<table border=\"1\" class=\"dataframe\">\n",
              "  <thead>\n",
              "    <tr style=\"text-align: right;\">\n",
              "      <th></th>\n",
              "      <th>Timestamp</th>\n",
              "      <th>Email Address</th>\n",
              "      <th>Age</th>\n",
              "      <th>Source of wealth</th>\n",
              "      <th>Do you perceive your wealth as small or considerable?</th>\n",
              "      <th>What experience do you have with investing?</th>\n",
              "      <th>Do you actively do research on investment opportunities?</th>\n",
              "      <th>Do you follow the latest investment trends?</th>\n",
              "      <th>What is the time frame you are looking for in an investment?</th>\n",
              "      <th>Do you plan on any major expenses in the future (Vacation, home, car etc.)</th>\n",
              "      <th>What is your monthly cashflow need?</th>\n",
              "      <th>Protecting my portfolio is more important to me than getting high returns.</th>\n",
              "      <th>Keeping the above answer in mind which of the following statements do you relate most to?</th>\n",
              "      <th>Which statement describes your personal investment attitude?</th>\n",
              "      <th>Score</th>\n",
              "    </tr>\n",
              "  </thead>\n",
              "  <tbody>\n",
              "    <tr>\n",
              "      <th>0</th>\n",
              "      <td>4/20/2023 12:24:25</td>\n",
              "      <td>liaanburger@gmail.com</td>\n",
              "      <td>23</td>\n",
              "      <td>Salaried employee</td>\n",
              "      <td>Small</td>\n",
              "      <td>Intermediate</td>\n",
              "      <td>Sometimes</td>\n",
              "      <td>Sometimes</td>\n",
              "      <td>10 + years</td>\n",
              "      <td>Yes</td>\n",
              "      <td>Between N$10,000-00 to N$30,000-00</td>\n",
              "      <td>Disagree</td>\n",
              "      <td>I am willing to accept losses in order to maxi...</td>\n",
              "      <td>I am seeking extremely high returns with my in...</td>\n",
              "      <td></td>\n",
              "    </tr>\n",
              "    <tr>\n",
              "      <th>1</th>\n",
              "      <td>4/28/2023 10:56:23</td>\n",
              "      <td>embashul.fredy@gmail.com</td>\n",
              "      <td>23</td>\n",
              "      <td>Salaried employee</td>\n",
              "      <td>Small</td>\n",
              "      <td>Intermediate</td>\n",
              "      <td>Sometimes</td>\n",
              "      <td>Sometimes</td>\n",
              "      <td>3 – 5 years</td>\n",
              "      <td>Yes</td>\n",
              "      <td>Between N$10,000-00 to N$30,000-00</td>\n",
              "      <td>Agree</td>\n",
              "      <td>I am willing to accept losses in order to maxi...</td>\n",
              "      <td>I am comfortable with stable investments</td>\n",
              "      <td></td>\n",
              "    </tr>\n",
              "  </tbody>\n",
              "</table>\n",
              "</div>\n",
              "      <button class=\"colab-df-convert\" onclick=\"convertToInteractive('df-452e414b-dd65-4f0b-98ad-60d1840a0892')\"\n",
              "              title=\"Convert this dataframe to an interactive table.\"\n",
              "              style=\"display:none;\">\n",
              "        \n",
              "  <svg xmlns=\"http://www.w3.org/2000/svg\" height=\"24px\"viewBox=\"0 0 24 24\"\n",
              "       width=\"24px\">\n",
              "    <path d=\"M0 0h24v24H0V0z\" fill=\"none\"/>\n",
              "    <path d=\"M18.56 5.44l.94 2.06.94-2.06 2.06-.94-2.06-.94-.94-2.06-.94 2.06-2.06.94zm-11 1L8.5 8.5l.94-2.06 2.06-.94-2.06-.94L8.5 2.5l-.94 2.06-2.06.94zm10 10l.94 2.06.94-2.06 2.06-.94-2.06-.94-.94-2.06-.94 2.06-2.06.94z\"/><path d=\"M17.41 7.96l-1.37-1.37c-.4-.4-.92-.59-1.43-.59-.52 0-1.04.2-1.43.59L10.3 9.45l-7.72 7.72c-.78.78-.78 2.05 0 2.83L4 21.41c.39.39.9.59 1.41.59.51 0 1.02-.2 1.41-.59l7.78-7.78 2.81-2.81c.8-.78.8-2.07 0-2.86zM5.41 20L4 18.59l7.72-7.72 1.47 1.35L5.41 20z\"/>\n",
              "  </svg>\n",
              "      </button>\n",
              "      \n",
              "  <style>\n",
              "    .colab-df-container {\n",
              "      display:flex;\n",
              "      flex-wrap:wrap;\n",
              "      gap: 12px;\n",
              "    }\n",
              "\n",
              "    .colab-df-convert {\n",
              "      background-color: #E8F0FE;\n",
              "      border: none;\n",
              "      border-radius: 50%;\n",
              "      cursor: pointer;\n",
              "      display: none;\n",
              "      fill: #1967D2;\n",
              "      height: 32px;\n",
              "      padding: 0 0 0 0;\n",
              "      width: 32px;\n",
              "    }\n",
              "\n",
              "    .colab-df-convert:hover {\n",
              "      background-color: #E2EBFA;\n",
              "      box-shadow: 0px 1px 2px rgba(60, 64, 67, 0.3), 0px 1px 3px 1px rgba(60, 64, 67, 0.15);\n",
              "      fill: #174EA6;\n",
              "    }\n",
              "\n",
              "    [theme=dark] .colab-df-convert {\n",
              "      background-color: #3B4455;\n",
              "      fill: #D2E3FC;\n",
              "    }\n",
              "\n",
              "    [theme=dark] .colab-df-convert:hover {\n",
              "      background-color: #434B5C;\n",
              "      box-shadow: 0px 1px 3px 1px rgba(0, 0, 0, 0.15);\n",
              "      filter: drop-shadow(0px 1px 2px rgba(0, 0, 0, 0.3));\n",
              "      fill: #FFFFFF;\n",
              "    }\n",
              "  </style>\n",
              "\n",
              "      <script>\n",
              "        const buttonEl =\n",
              "          document.querySelector('#df-452e414b-dd65-4f0b-98ad-60d1840a0892 button.colab-df-convert');\n",
              "        buttonEl.style.display =\n",
              "          google.colab.kernel.accessAllowed ? 'block' : 'none';\n",
              "\n",
              "        async function convertToInteractive(key) {\n",
              "          const element = document.querySelector('#df-452e414b-dd65-4f0b-98ad-60d1840a0892');\n",
              "          const dataTable =\n",
              "            await google.colab.kernel.invokeFunction('convertToInteractive',\n",
              "                                                     [key], {});\n",
              "          if (!dataTable) return;\n",
              "\n",
              "          const docLinkHtml = 'Like what you see? Visit the ' +\n",
              "            '<a target=\"_blank\" href=https://colab.research.google.com/notebooks/data_table.ipynb>data table notebook</a>'\n",
              "            + ' to learn more about interactive tables.';\n",
              "          element.innerHTML = '';\n",
              "          dataTable['output_type'] = 'display_data';\n",
              "          await google.colab.output.renderOutput(dataTable, element);\n",
              "          const docLink = document.createElement('div');\n",
              "          docLink.innerHTML = docLinkHtml;\n",
              "          element.appendChild(docLink);\n",
              "        }\n",
              "      </script>\n",
              "    </div>\n",
              "  </div>\n",
              "  "
            ],
            "application/vnd.google.colaboratory.module+javascript": "\n      import \"https://ssl.gstatic.com/colaboratory/data_table/99dac6621f6ae8c4/data_table.js\";\n\n      window.createDataTable({\n        data: [[{\n            'v': 0,\n            'f': \"0\",\n        },\n\"4/20/2023 12:24:25\",\n\"liaanburger@gmail.com\",\n{\n            'v': 23,\n            'f': \"23\",\n        },\n\"Salaried employee\",\n\"Small\",\n\"Intermediate\",\n\"Sometimes\",\n\"Sometimes\",\n\"10 + years\",\n\"Yes\",\n\"Between N$10,000-00 to N$30,000-00\",\n\"Disagree\",\n\"I am willing to accept losses in order to maximise my returns\",\n\"I am seeking extremely high returns with my investments\",\n\"\"],\n [{\n            'v': 1,\n            'f': \"1\",\n        },\n\"4/28/2023 10:56:23\",\n\"embashul.fredy@gmail.com\",\n{\n            'v': 23,\n            'f': \"23\",\n        },\n\"Salaried employee\",\n\"Small\",\n\"Intermediate\",\n\"Sometimes\",\n\"Sometimes\",\n\"3 \\u2013 5 years\",\n\"Yes\",\n\"Between N$10,000-00 to N$30,000-00\",\n\"Agree\",\n\"I am willing to accept losses in order to maximise my returns\",\n\"I am comfortable with stable investments\",\n\"\"]],\n        columns: [[\"number\", \"index\"], [\"string\", \"Timestamp\"], [\"string\", \"Email Address\"], [\"number\", \"Age\"], [\"string\", \"Source of wealth\"], [\"string\", \"Do you perceive your wealth as small or considerable?\"], [\"string\", \"What experience do you have with investing?\"], [\"string\", \"Do you actively do research on investment opportunities?\"], [\"string\", \"Do you follow the latest investment trends?\"], [\"string\", \"What is the time frame you are looking for in an investment?\"], [\"string\", \"Do you plan on any major expenses in the future (Vacation, home, car etc.)\"], [\"string\", \"What is your monthly cashflow need?\"], [\"string\", \"Protecting my portfolio is more important to me than getting high returns.\"], [\"string\", \"Keeping the above answer in mind which of the following statements do you relate most to?\"], [\"string\", \"Which statement describes your personal investment attitude?\"], [\"string\", \"Score\"]],\n        columnOptions: [{\"width\": \"1px\", \"className\": \"index_column\"}],\n        rowsPerPage: 25,\n        helpUrl: \"https://colab.research.google.com/notebooks/data_table.ipynb\",\n        suppressOutputScrolling: true,\n        minimumWidth: undefined,\n      });\n    "
          },
          "metadata": {},
          "execution_count": 9
        }
      ]
    },
    {
      "cell_type": "code",
      "source": [
        "email = input(\"Enter an email address: \")\n",
        "result = data_1[data_1.iloc[:, 1] == email]\n",
        "# Convert to Age to age groups\n",
        "\n",
        "bins = [0, 29, 44, 150]\n",
        "labels = ['Less than 29', 'Between 30 and 44', 'Above 45']\n",
        "\n",
        "# Use the cut function to create a new column that specifies the age group\n",
        "result['Age Group'] = pd.cut(data_1.iloc[:, 2], bins=bins, labels=labels)\n",
        "\n",
        "result\n",
        "# Display the modified DataFrame"
      ],
      "metadata": {
        "colab": {
          "base_uri": "https://localhost:8080/",
          "height": 288
        },
        "id": "6x0dP0BhyXPo",
        "outputId": "7e8f27cb-412b-442b-9b3c-6a8053befb5a"
      },
      "execution_count": null,
      "outputs": [
        {
          "name": "stdout",
          "output_type": "stream",
          "text": [
            "Enter an email address: embashul.fredy@gmail.com\n"
          ]
        },
        {
          "output_type": "stream",
          "name": "stderr",
          "text": [
            "<ipython-input-10-8ad86a9dc4d3>:9: SettingWithCopyWarning: \n",
            "A value is trying to be set on a copy of a slice from a DataFrame.\n",
            "Try using .loc[row_indexer,col_indexer] = value instead\n",
            "\n",
            "See the caveats in the documentation: https://pandas.pydata.org/pandas-docs/stable/user_guide/indexing.html#returning-a-view-versus-a-copy\n",
            "  result['Age Group'] = pd.cut(data_1.iloc[:, 2], bins=bins, labels=labels)\n"
          ]
        },
        {
          "output_type": "execute_result",
          "data": {
            "text/plain": [
              "            Timestamp             Email Address  Age   Source of wealth  \\\n",
              "1  4/28/2023 10:56:23  embashul.fredy@gmail.com   23  Salaried employee   \n",
              "\n",
              "  Do you perceive your wealth as small or considerable?  \\\n",
              "1                                              Small      \n",
              "\n",
              "  What experience do you have with investing?  \\\n",
              "1                                Intermediate   \n",
              "\n",
              "  Do you actively do research on investment opportunities?  \\\n",
              "1                                          Sometimes         \n",
              "\n",
              "  Do you follow the latest investment trends?  \\\n",
              "1                                   Sometimes   \n",
              "\n",
              "  What is the time frame you are looking for in an investment?  \\\n",
              "1                                        3 – 5 years             \n",
              "\n",
              "  Do you plan on any major expenses in the future (Vacation, home, car etc.)  \\\n",
              "1                                                Yes                           \n",
              "\n",
              "  What is your monthly cashflow need?  \\\n",
              "1  Between N$10,000-00 to N$30,000-00   \n",
              "\n",
              "  Protecting my portfolio is more important to me than getting high returns.  \\\n",
              "1                                              Agree                           \n",
              "\n",
              "  Keeping the above answer in mind which of the following statements do you relate most to?  \\\n",
              "1  I am willing to accept losses in order to maxi...                                          \n",
              "\n",
              "  Which statement describes your personal investment attitude? Score  \\\n",
              "1           I am comfortable with stable investments                   \n",
              "\n",
              "      Age Group  \n",
              "1  Less than 29  "
            ],
            "text/html": [
              "\n",
              "  <div id=\"df-48656c8a-2d6d-4f1d-a21e-e0bc1f629248\">\n",
              "    <div class=\"colab-df-container\">\n",
              "      <div>\n",
              "<style scoped>\n",
              "    .dataframe tbody tr th:only-of-type {\n",
              "        vertical-align: middle;\n",
              "    }\n",
              "\n",
              "    .dataframe tbody tr th {\n",
              "        vertical-align: top;\n",
              "    }\n",
              "\n",
              "    .dataframe thead th {\n",
              "        text-align: right;\n",
              "    }\n",
              "</style>\n",
              "<table border=\"1\" class=\"dataframe\">\n",
              "  <thead>\n",
              "    <tr style=\"text-align: right;\">\n",
              "      <th></th>\n",
              "      <th>Timestamp</th>\n",
              "      <th>Email Address</th>\n",
              "      <th>Age</th>\n",
              "      <th>Source of wealth</th>\n",
              "      <th>Do you perceive your wealth as small or considerable?</th>\n",
              "      <th>What experience do you have with investing?</th>\n",
              "      <th>Do you actively do research on investment opportunities?</th>\n",
              "      <th>Do you follow the latest investment trends?</th>\n",
              "      <th>What is the time frame you are looking for in an investment?</th>\n",
              "      <th>Do you plan on any major expenses in the future (Vacation, home, car etc.)</th>\n",
              "      <th>What is your monthly cashflow need?</th>\n",
              "      <th>Protecting my portfolio is more important to me than getting high returns.</th>\n",
              "      <th>Keeping the above answer in mind which of the following statements do you relate most to?</th>\n",
              "      <th>Which statement describes your personal investment attitude?</th>\n",
              "      <th>Score</th>\n",
              "      <th>Age Group</th>\n",
              "    </tr>\n",
              "  </thead>\n",
              "  <tbody>\n",
              "    <tr>\n",
              "      <th>1</th>\n",
              "      <td>4/28/2023 10:56:23</td>\n",
              "      <td>embashul.fredy@gmail.com</td>\n",
              "      <td>23</td>\n",
              "      <td>Salaried employee</td>\n",
              "      <td>Small</td>\n",
              "      <td>Intermediate</td>\n",
              "      <td>Sometimes</td>\n",
              "      <td>Sometimes</td>\n",
              "      <td>3 – 5 years</td>\n",
              "      <td>Yes</td>\n",
              "      <td>Between N$10,000-00 to N$30,000-00</td>\n",
              "      <td>Agree</td>\n",
              "      <td>I am willing to accept losses in order to maxi...</td>\n",
              "      <td>I am comfortable with stable investments</td>\n",
              "      <td></td>\n",
              "      <td>Less than 29</td>\n",
              "    </tr>\n",
              "  </tbody>\n",
              "</table>\n",
              "</div>\n",
              "      <button class=\"colab-df-convert\" onclick=\"convertToInteractive('df-48656c8a-2d6d-4f1d-a21e-e0bc1f629248')\"\n",
              "              title=\"Convert this dataframe to an interactive table.\"\n",
              "              style=\"display:none;\">\n",
              "        \n",
              "  <svg xmlns=\"http://www.w3.org/2000/svg\" height=\"24px\"viewBox=\"0 0 24 24\"\n",
              "       width=\"24px\">\n",
              "    <path d=\"M0 0h24v24H0V0z\" fill=\"none\"/>\n",
              "    <path d=\"M18.56 5.44l.94 2.06.94-2.06 2.06-.94-2.06-.94-.94-2.06-.94 2.06-2.06.94zm-11 1L8.5 8.5l.94-2.06 2.06-.94-2.06-.94L8.5 2.5l-.94 2.06-2.06.94zm10 10l.94 2.06.94-2.06 2.06-.94-2.06-.94-.94-2.06-.94 2.06-2.06.94z\"/><path d=\"M17.41 7.96l-1.37-1.37c-.4-.4-.92-.59-1.43-.59-.52 0-1.04.2-1.43.59L10.3 9.45l-7.72 7.72c-.78.78-.78 2.05 0 2.83L4 21.41c.39.39.9.59 1.41.59.51 0 1.02-.2 1.41-.59l7.78-7.78 2.81-2.81c.8-.78.8-2.07 0-2.86zM5.41 20L4 18.59l7.72-7.72 1.47 1.35L5.41 20z\"/>\n",
              "  </svg>\n",
              "      </button>\n",
              "      \n",
              "  <style>\n",
              "    .colab-df-container {\n",
              "      display:flex;\n",
              "      flex-wrap:wrap;\n",
              "      gap: 12px;\n",
              "    }\n",
              "\n",
              "    .colab-df-convert {\n",
              "      background-color: #E8F0FE;\n",
              "      border: none;\n",
              "      border-radius: 50%;\n",
              "      cursor: pointer;\n",
              "      display: none;\n",
              "      fill: #1967D2;\n",
              "      height: 32px;\n",
              "      padding: 0 0 0 0;\n",
              "      width: 32px;\n",
              "    }\n",
              "\n",
              "    .colab-df-convert:hover {\n",
              "      background-color: #E2EBFA;\n",
              "      box-shadow: 0px 1px 2px rgba(60, 64, 67, 0.3), 0px 1px 3px 1px rgba(60, 64, 67, 0.15);\n",
              "      fill: #174EA6;\n",
              "    }\n",
              "\n",
              "    [theme=dark] .colab-df-convert {\n",
              "      background-color: #3B4455;\n",
              "      fill: #D2E3FC;\n",
              "    }\n",
              "\n",
              "    [theme=dark] .colab-df-convert:hover {\n",
              "      background-color: #434B5C;\n",
              "      box-shadow: 0px 1px 3px 1px rgba(0, 0, 0, 0.15);\n",
              "      filter: drop-shadow(0px 1px 2px rgba(0, 0, 0, 0.3));\n",
              "      fill: #FFFFFF;\n",
              "    }\n",
              "  </style>\n",
              "\n",
              "      <script>\n",
              "        const buttonEl =\n",
              "          document.querySelector('#df-48656c8a-2d6d-4f1d-a21e-e0bc1f629248 button.colab-df-convert');\n",
              "        buttonEl.style.display =\n",
              "          google.colab.kernel.accessAllowed ? 'block' : 'none';\n",
              "\n",
              "        async function convertToInteractive(key) {\n",
              "          const element = document.querySelector('#df-48656c8a-2d6d-4f1d-a21e-e0bc1f629248');\n",
              "          const dataTable =\n",
              "            await google.colab.kernel.invokeFunction('convertToInteractive',\n",
              "                                                     [key], {});\n",
              "          if (!dataTable) return;\n",
              "\n",
              "          const docLinkHtml = 'Like what you see? Visit the ' +\n",
              "            '<a target=\"_blank\" href=https://colab.research.google.com/notebooks/data_table.ipynb>data table notebook</a>'\n",
              "            + ' to learn more about interactive tables.';\n",
              "          element.innerHTML = '';\n",
              "          dataTable['output_type'] = 'display_data';\n",
              "          await google.colab.output.renderOutput(dataTable, element);\n",
              "          const docLink = document.createElement('div');\n",
              "          docLink.innerHTML = docLinkHtml;\n",
              "          element.appendChild(docLink);\n",
              "        }\n",
              "      </script>\n",
              "    </div>\n",
              "  </div>\n",
              "  "
            ],
            "application/vnd.google.colaboratory.module+javascript": "\n      import \"https://ssl.gstatic.com/colaboratory/data_table/99dac6621f6ae8c4/data_table.js\";\n\n      window.createDataTable({\n        data: [[{\n            'v': 1,\n            'f': \"1\",\n        },\n\"4/28/2023 10:56:23\",\n\"embashul.fredy@gmail.com\",\n{\n            'v': 23,\n            'f': \"23\",\n        },\n\"Salaried employee\",\n\"Small\",\n\"Intermediate\",\n\"Sometimes\",\n\"Sometimes\",\n\"3 \\u2013 5 years\",\n\"Yes\",\n\"Between N$10,000-00 to N$30,000-00\",\n\"Agree\",\n\"I am willing to accept losses in order to maximise my returns\",\n\"I am comfortable with stable investments\",\n\"\",\n\"Less than 29\"]],\n        columns: [[\"number\", \"index\"], [\"string\", \"Timestamp\"], [\"string\", \"Email Address\"], [\"number\", \"Age\"], [\"string\", \"Source of wealth\"], [\"string\", \"Do you perceive your wealth as small or considerable?\"], [\"string\", \"What experience do you have with investing?\"], [\"string\", \"Do you actively do research on investment opportunities?\"], [\"string\", \"Do you follow the latest investment trends?\"], [\"string\", \"What is the time frame you are looking for in an investment?\"], [\"string\", \"Do you plan on any major expenses in the future (Vacation, home, car etc.)\"], [\"string\", \"What is your monthly cashflow need?\"], [\"string\", \"Protecting my portfolio is more important to me than getting high returns.\"], [\"string\", \"Keeping the above answer in mind which of the following statements do you relate most to?\"], [\"string\", \"Which statement describes your personal investment attitude?\"], [\"string\", \"Score\"], [\"string\", \"Age Group\"]],\n        columnOptions: [{\"width\": \"1px\", \"className\": \"index_column\"}],\n        rowsPerPage: 25,\n        helpUrl: \"https://colab.research.google.com/notebooks/data_table.ipynb\",\n        suppressOutputScrolling: true,\n        minimumWidth: undefined,\n      });\n    "
          },
          "metadata": {},
          "execution_count": 10
        }
      ]
    },
    {
      "cell_type": "code",
      "source": [
        "header_row"
      ],
      "metadata": {
        "colab": {
          "base_uri": "https://localhost:8080/"
        },
        "id": "01ieJkfA8xs6",
        "outputId": "21e9d99d-7f67-4b1e-b81c-a99b3178a74a"
      },
      "execution_count": null,
      "outputs": [
        {
          "output_type": "execute_result",
          "data": {
            "text/plain": [
              "['Timestamp',\n",
              " 'Email Address',\n",
              " 'Age',\n",
              " 'Source of wealth',\n",
              " 'Do you perceive your wealth as small or considerable?',\n",
              " 'What experience do you have with investing?',\n",
              " 'Do you actively do research on investment opportunities?',\n",
              " 'Do you follow the latest investment trends?',\n",
              " 'What is the time frame you are looking for in an investment?',\n",
              " 'Do you plan on any major expenses in the future (Vacation, home, car etc.)',\n",
              " 'What is your monthly cashflow need?',\n",
              " 'Protecting my portfolio is more important to me than getting high returns.',\n",
              " 'Keeping the above answer in mind which of the following statements do you relate most to?',\n",
              " 'Which statement describes your personal investment attitude?',\n",
              " 'Score']"
            ]
          },
          "metadata": {},
          "execution_count": 11
        }
      ]
    },
    {
      "cell_type": "code",
      "source": [
        "import math"
      ],
      "metadata": {
        "id": "tvreTmlAJSdt"
      },
      "execution_count": null,
      "outputs": []
    },
    {
      "cell_type": "markdown",
      "source": [
        "**Calculate the client's risk here.**"
      ],
      "metadata": {
        "id": "yNRGykN3qFRm"
      }
    },
    {
      "cell_type": "code",
      "source": [
        "def calculate_risk_appetite(user_row):\n",
        "    risk_score = 0\n",
        "    if user_row['Age Group'] == 'Less than 29':\n",
        "        risk_score = 3\n",
        "    elif user_row['Age Group'] == 'Between 30 and 44':\n",
        "        risk_score = 6\n",
        "    elif user_row['Age Group'] == 'Above 45':\n",
        "        risk_score = 9\n",
        "    else:\n",
        "        risk_score = 12\n",
        " \n",
        "    if user_row['Source of wealth'] in ['Entrepreneurial activities','Savings','Salaried employee','Inheritance','Employment income', 'Other...','Government employee','Inheritance']:\n",
        "        risk_score += 2\n",
        "        \n",
        "    if user_row['Do you perceive your wealth as small or considerable?'] == 'Considerable':\n",
        "        risk_score += 1\n",
        "    elif user_row['Do you perceive your wealth as small or considerable?'] == 'Small':\n",
        "        risk_score += 2\n",
        "\n",
        "    if user_row['What experience do you have with investing?'] == 'Intermediate':\n",
        "        risk_score += 1\n",
        "    elif user_row['What experience do you have with investing?'] == 'Experienced':\n",
        "        risk_score += 2\n",
        "    elif user_row['What experience do you have with investing?'] == 'None to little':\n",
        "        risk_score += 3\n",
        "\n",
        "    if user_row['Do you actively do research on investment opportunities?'] == 'Always':\n",
        "        risk_score += 2\n",
        "    elif user_row['Do you actively do research on investment opportunities?'] == 'Sometimes':\n",
        "        risk_score += 1\n",
        "    elif user_row['Do you actively do research on investment opportunities?'] == 'Never':\n",
        "        risk_score += 3\n",
        "        \n",
        "    if user_row['Do you follow the latest investment trends?'] == 'Always':\n",
        "        risk_score += 3\n",
        "    elif user_row['Do you follow the latest investment trends?'] == 'Sometimes':\n",
        "        risk_score += 2\n",
        "    elif user_row['Do you follow the latest investment trends?'] == 'Never':\n",
        "        risk_score += 1\n",
        "        \n",
        "    if user_row['What is the time frame you are looking for in an investment?'] == '1 – 3 years':\n",
        "        risk_score += 1\n",
        "    elif user_row['What is the time frame you are looking for in an investment?'] == '3 – 5 years':\n",
        "        risk_score += 2\n",
        "    elif user_row['What is the time frame you are looking for in an investment?'] == '5 – 10 years':\n",
        "        risk_score += 3\n",
        "    else:\n",
        "        risk_score += 4\n",
        "        \n",
        "    if user_row['Do you plan on any major expenses in the future (Vacation, home, car etc.)'] == 'Yes':\n",
        "        risk_score += 2\n",
        "    elif user_row['Do you plan on any major expenses in the future (Vacation, home, car etc.)'] == 'No':\n",
        "        risk_score += 1\n",
        "    \n",
        "    if user_row['What is your monthly cashflow need?'] == 'More than N$50,000-00':\n",
        "        risk_score += 3\n",
        "    elif user_row['What is your monthly cashflow need?'] == 'Between N$30,000-00 to N$50,000-00':\n",
        "        risk_score += 2\n",
        "    elif user_row['What is your monthly cashflow need?'] == 'Between N$10,000-00 to N$30,000-00':\n",
        "        risk_score += 2\n",
        "    elif user_row['What is your monthly cashflow need?'] == 'Less than N$10,000-00':\n",
        "        risk_score += 1\n",
        "\n",
        "    if user_row['Protecting my portfolio is more important to me than getting high returns.'] == 'Agree':\n",
        "        risk_score += 1\n",
        "    elif user_row['Protecting my portfolio is more important to me than getting high returns.'] == 'Disagree':\n",
        "        risk_score += 3\n",
        "    elif user_row['Protecting my portfolio is more important to me than getting high returns.'] == 'Neutral':\n",
        "        risk_score += 2\n",
        "        \n",
        "    if user_row['Which statement describes your personal investment attitude?'] == 'I am comfortable with stable investments':\n",
        "        risk_score += 1\n",
        "    elif user_row['Which statement describes your personal investment attitude?'] == 'I am seeking considerable returns with my investments':\n",
        "        risk_score += 3\n",
        "    elif user_row['Which statement describes your personal investment attitude?'] == 'I am seeking extremely high returns with my investments':\n",
        "        risk_score += 4\n",
        "\n",
        "    if user_row['Keeping the above answer in mind which of the following statements do you relate most to?'] == 'I am willing to accept losses in order to maximise my returns':\n",
        "        risk_score += 1\n",
        "    elif user_row['Keeping the above answer in mind which of the following statements do you relate most to?'] == 'I am a bit weary of losses along with returns':\n",
        "        risk_score += 3\n",
        "    elif user_row['Keeping the above answer in mind which of the following statements do you relate most to?'] == 'I hope to have no losses whatsoever':\n",
        "        risk_score += 4\n",
        "  # Gauge chart\n",
        "\n",
        "    fig = go.Figure(go.Indicator(\n",
        "        mode = \"gauge+number\",\n",
        "        value = risk_score,\n",
        "        domain = {'x': [0, 1], 'y': [0, 1]},\n",
        "        gauge = {\n",
        "            'axis': {'range': [0, 30], 'tickwidth': 1, 'tickcolor': 'black'},\n",
        "            'steps': [\n",
        "                {'range': [0, 10], 'color': \"white\"},\n",
        "                {'range': [10, 20], 'color': \"white\"},\n",
        "                {'range': [20, 30], 'color': \"white\"}],\n",
        "            'threshold': {'line': {'color': \"black\", 'width': 2}, 'thickness': 0.65, 'value': risk_score}},\n",
        "        ))\n",
        "    if risk_score <= 5:\n",
        "        fig.update_layout(title= email + ' has (Low risk) with a score of '+ str(risk_score/30*100) + '%', title_x=0.5, \n",
        "                      shapes=[dict(type='line', xref='paper', x0=0, y0=risk_score, x1=1, y1=risk_score,\n",
        "                                  line=dict(color='black', width=2, dash='dash'))],\n",
        "                    )\n",
        "        return fig.show()\n",
        "\n",
        "    elif risk_score <= 10:\n",
        "        fig.update_layout(title= email + ' has (Medium risk) with a score of '+ str(risk_score/30*100) + '%', title_x=0.5, \n",
        "                      shapes=[dict(type='line', xref='paper', x0=0, y0=risk_score, x1=1, y1=risk_score,\n",
        "                                  line=dict(color='black', width=2, dash='dash'))],\n",
        "                    )\n",
        "        return fig.show()\n",
        "\n",
        "    else:\n",
        "        fig.update_layout(title= email + ' has (High risk) with a score of '+ str(risk_score/30*100) + '%', title_x=0.5, \n",
        "                      shapes=[dict(type='line', xref='paper', x0=0, y0=risk_score, x1=1, y1=risk_score,\n",
        "                                  line=dict(color='black', width=2, dash='dash'))],\n",
        "                    )\n",
        "        return fig.show()\n",
        "\n",
        "#'High risk with a risk appetitite with '+ str(risk_score/30*100) + '%' +\n",
        "#'Medium risk with a risk appetitite with '+ str(risk_score/30*100) + '%' + \n",
        "#'Low risk with a risk appetitite with '+ str(risk_score/30*100) + '%' +\n",
        "\n"
      ],
      "metadata": {
        "id": "T_oTWKzzwJ3F"
      },
      "execution_count": null,
      "outputs": []
    },
    {
      "cell_type": "code",
      "source": [
        "import pandas as pd\n",
        "import matplotlib.pyplot as plt\n",
        "import plotly.graph_objs as go\n",
        "import ipywidgets as widgets\n",
        "from IPython.display import display\n"
      ],
      "metadata": {
        "id": "uDcgjyfczSu6"
      },
      "execution_count": null,
      "outputs": []
    },
    {
      "cell_type": "code",
      "source": [
        "user_row = result.loc[result['Email Address'] == email].iloc[0]\n",
        "\n",
        "user_row"
      ],
      "metadata": {
        "colab": {
          "base_uri": "https://localhost:8080/"
        },
        "id": "MWGQBr3zxfmO",
        "outputId": "84b46d67-3d7f-4f4b-8acd-93c9a2662024"
      },
      "execution_count": null,
      "outputs": [
        {
          "output_type": "execute_result",
          "data": {
            "text/plain": [
              "Timestamp                                                                                                                   4/28/2023 10:56:23\n",
              "Email Address                                                                                                         embashul.fredy@gmail.com\n",
              "Age                                                                                                                                         23\n",
              "Source of wealth                                                                                                             Salaried employee\n",
              "Do you perceive your wealth as small or considerable?                                                                                    Small\n",
              "What experience do you have with investing?                                                                                       Intermediate\n",
              "Do you actively do research on investment opportunities?                                                                             Sometimes\n",
              "Do you follow the latest investment trends?                                                                                          Sometimes\n",
              "What is the time frame you are looking for in an investment?                                                                       3 – 5 years\n",
              "Do you plan on any major expenses in the future (Vacation, home, car etc.)                                                                 Yes\n",
              "What is your monthly cashflow need?                                                                         Between N$10,000-00 to N$30,000-00\n",
              "Protecting my portfolio is more important to me than getting high returns.                                                               Agree\n",
              "Keeping the above answer in mind which of the following statements do you relate most to?    I am willing to accept losses in order to maxi...\n",
              "Which statement describes your personal investment attitude?                                          I am comfortable with stable investments\n",
              "Score                                                                                                                                         \n",
              "Age Group                                                                                                                         Less than 29\n",
              "Name: 1, dtype: object"
            ]
          },
          "metadata": {},
          "execution_count": 98
        }
      ]
    },
    {
      "cell_type": "code",
      "source": [
        "calculate_risk_appetite(user_row)\n"
      ],
      "metadata": {
        "colab": {
          "base_uri": "https://localhost:8080/",
          "height": 542
        },
        "id": "gpPXV0qR2vyO",
        "outputId": "64438126-a125-4fcc-a507-7370c0794799"
      },
      "execution_count": null,
      "outputs": [
        {
          "output_type": "display_data",
          "data": {
            "text/html": [
              "<html>\n",
              "<head><meta charset=\"utf-8\" /></head>\n",
              "<body>\n",
              "    <div>            <script src=\"https://cdnjs.cloudflare.com/ajax/libs/mathjax/2.7.5/MathJax.js?config=TeX-AMS-MML_SVG\"></script><script type=\"text/javascript\">if (window.MathJax && window.MathJax.Hub && window.MathJax.Hub.Config) {window.MathJax.Hub.Config({SVG: {font: \"STIX-Web\"}});}</script>                <script type=\"text/javascript\">window.PlotlyConfig = {MathJaxConfig: 'local'};</script>\n",
              "        <script src=\"https://cdn.plot.ly/plotly-2.18.2.min.js\"></script>                <div id=\"513eb49c-0837-425a-850b-19eb07ea8c7c\" class=\"plotly-graph-div\" style=\"height:525px; width:100%;\"></div>            <script type=\"text/javascript\">                                    window.PLOTLYENV=window.PLOTLYENV || {};                                    if (document.getElementById(\"513eb49c-0837-425a-850b-19eb07ea8c7c\")) {                    Plotly.newPlot(                        \"513eb49c-0837-425a-850b-19eb07ea8c7c\",                        [{\"domain\":{\"x\":[0,1],\"y\":[0,1]},\"gauge\":{\"axis\":{\"range\":[0,30],\"tickcolor\":\"black\",\"tickwidth\":1},\"steps\":[{\"color\":\"white\",\"range\":[0,10]},{\"color\":\"white\",\"range\":[10,20]},{\"color\":\"white\",\"range\":[20,30]}],\"threshold\":{\"line\":{\"color\":\"black\",\"width\":2},\"thickness\":0.65,\"value\":20}},\"mode\":\"gauge+number\",\"value\":20,\"type\":\"indicator\"}],                        {\"template\":{\"data\":{\"histogram2dcontour\":[{\"type\":\"histogram2dcontour\",\"colorbar\":{\"outlinewidth\":0,\"ticks\":\"\"},\"colorscale\":[[0.0,\"#0d0887\"],[0.1111111111111111,\"#46039f\"],[0.2222222222222222,\"#7201a8\"],[0.3333333333333333,\"#9c179e\"],[0.4444444444444444,\"#bd3786\"],[0.5555555555555556,\"#d8576b\"],[0.6666666666666666,\"#ed7953\"],[0.7777777777777778,\"#fb9f3a\"],[0.8888888888888888,\"#fdca26\"],[1.0,\"#f0f921\"]]}],\"choropleth\":[{\"type\":\"choropleth\",\"colorbar\":{\"outlinewidth\":0,\"ticks\":\"\"}}],\"histogram2d\":[{\"type\":\"histogram2d\",\"colorbar\":{\"outlinewidth\":0,\"ticks\":\"\"},\"colorscale\":[[0.0,\"#0d0887\"],[0.1111111111111111,\"#46039f\"],[0.2222222222222222,\"#7201a8\"],[0.3333333333333333,\"#9c179e\"],[0.4444444444444444,\"#bd3786\"],[0.5555555555555556,\"#d8576b\"],[0.6666666666666666,\"#ed7953\"],[0.7777777777777778,\"#fb9f3a\"],[0.8888888888888888,\"#fdca26\"],[1.0,\"#f0f921\"]]}],\"heatmap\":[{\"type\":\"heatmap\",\"colorbar\":{\"outlinewidth\":0,\"ticks\":\"\"},\"colorscale\":[[0.0,\"#0d0887\"],[0.1111111111111111,\"#46039f\"],[0.2222222222222222,\"#7201a8\"],[0.3333333333333333,\"#9c179e\"],[0.4444444444444444,\"#bd3786\"],[0.5555555555555556,\"#d8576b\"],[0.6666666666666666,\"#ed7953\"],[0.7777777777777778,\"#fb9f3a\"],[0.8888888888888888,\"#fdca26\"],[1.0,\"#f0f921\"]]}],\"heatmapgl\":[{\"type\":\"heatmapgl\",\"colorbar\":{\"outlinewidth\":0,\"ticks\":\"\"},\"colorscale\":[[0.0,\"#0d0887\"],[0.1111111111111111,\"#46039f\"],[0.2222222222222222,\"#7201a8\"],[0.3333333333333333,\"#9c179e\"],[0.4444444444444444,\"#bd3786\"],[0.5555555555555556,\"#d8576b\"],[0.6666666666666666,\"#ed7953\"],[0.7777777777777778,\"#fb9f3a\"],[0.8888888888888888,\"#fdca26\"],[1.0,\"#f0f921\"]]}],\"contourcarpet\":[{\"type\":\"contourcarpet\",\"colorbar\":{\"outlinewidth\":0,\"ticks\":\"\"}}],\"contour\":[{\"type\":\"contour\",\"colorbar\":{\"outlinewidth\":0,\"ticks\":\"\"},\"colorscale\":[[0.0,\"#0d0887\"],[0.1111111111111111,\"#46039f\"],[0.2222222222222222,\"#7201a8\"],[0.3333333333333333,\"#9c179e\"],[0.4444444444444444,\"#bd3786\"],[0.5555555555555556,\"#d8576b\"],[0.6666666666666666,\"#ed7953\"],[0.7777777777777778,\"#fb9f3a\"],[0.8888888888888888,\"#fdca26\"],[1.0,\"#f0f921\"]]}],\"surface\":[{\"type\":\"surface\",\"colorbar\":{\"outlinewidth\":0,\"ticks\":\"\"},\"colorscale\":[[0.0,\"#0d0887\"],[0.1111111111111111,\"#46039f\"],[0.2222222222222222,\"#7201a8\"],[0.3333333333333333,\"#9c179e\"],[0.4444444444444444,\"#bd3786\"],[0.5555555555555556,\"#d8576b\"],[0.6666666666666666,\"#ed7953\"],[0.7777777777777778,\"#fb9f3a\"],[0.8888888888888888,\"#fdca26\"],[1.0,\"#f0f921\"]]}],\"mesh3d\":[{\"type\":\"mesh3d\",\"colorbar\":{\"outlinewidth\":0,\"ticks\":\"\"}}],\"scatter\":[{\"fillpattern\":{\"fillmode\":\"overlay\",\"size\":10,\"solidity\":0.2},\"type\":\"scatter\"}],\"parcoords\":[{\"type\":\"parcoords\",\"line\":{\"colorbar\":{\"outlinewidth\":0,\"ticks\":\"\"}}}],\"scatterpolargl\":[{\"type\":\"scatterpolargl\",\"marker\":{\"colorbar\":{\"outlinewidth\":0,\"ticks\":\"\"}}}],\"bar\":[{\"error_x\":{\"color\":\"#2a3f5f\"},\"error_y\":{\"color\":\"#2a3f5f\"},\"marker\":{\"line\":{\"color\":\"#E5ECF6\",\"width\":0.5},\"pattern\":{\"fillmode\":\"overlay\",\"size\":10,\"solidity\":0.2}},\"type\":\"bar\"}],\"scattergeo\":[{\"type\":\"scattergeo\",\"marker\":{\"colorbar\":{\"outlinewidth\":0,\"ticks\":\"\"}}}],\"scatterpolar\":[{\"type\":\"scatterpolar\",\"marker\":{\"colorbar\":{\"outlinewidth\":0,\"ticks\":\"\"}}}],\"histogram\":[{\"marker\":{\"pattern\":{\"fillmode\":\"overlay\",\"size\":10,\"solidity\":0.2}},\"type\":\"histogram\"}],\"scattergl\":[{\"type\":\"scattergl\",\"marker\":{\"colorbar\":{\"outlinewidth\":0,\"ticks\":\"\"}}}],\"scatter3d\":[{\"type\":\"scatter3d\",\"line\":{\"colorbar\":{\"outlinewidth\":0,\"ticks\":\"\"}},\"marker\":{\"colorbar\":{\"outlinewidth\":0,\"ticks\":\"\"}}}],\"scattermapbox\":[{\"type\":\"scattermapbox\",\"marker\":{\"colorbar\":{\"outlinewidth\":0,\"ticks\":\"\"}}}],\"scatterternary\":[{\"type\":\"scatterternary\",\"marker\":{\"colorbar\":{\"outlinewidth\":0,\"ticks\":\"\"}}}],\"scattercarpet\":[{\"type\":\"scattercarpet\",\"marker\":{\"colorbar\":{\"outlinewidth\":0,\"ticks\":\"\"}}}],\"carpet\":[{\"aaxis\":{\"endlinecolor\":\"#2a3f5f\",\"gridcolor\":\"white\",\"linecolor\":\"white\",\"minorgridcolor\":\"white\",\"startlinecolor\":\"#2a3f5f\"},\"baxis\":{\"endlinecolor\":\"#2a3f5f\",\"gridcolor\":\"white\",\"linecolor\":\"white\",\"minorgridcolor\":\"white\",\"startlinecolor\":\"#2a3f5f\"},\"type\":\"carpet\"}],\"table\":[{\"cells\":{\"fill\":{\"color\":\"#EBF0F8\"},\"line\":{\"color\":\"white\"}},\"header\":{\"fill\":{\"color\":\"#C8D4E3\"},\"line\":{\"color\":\"white\"}},\"type\":\"table\"}],\"barpolar\":[{\"marker\":{\"line\":{\"color\":\"#E5ECF6\",\"width\":0.5},\"pattern\":{\"fillmode\":\"overlay\",\"size\":10,\"solidity\":0.2}},\"type\":\"barpolar\"}],\"pie\":[{\"automargin\":true,\"type\":\"pie\"}]},\"layout\":{\"autotypenumbers\":\"strict\",\"colorway\":[\"#636efa\",\"#EF553B\",\"#00cc96\",\"#ab63fa\",\"#FFA15A\",\"#19d3f3\",\"#FF6692\",\"#B6E880\",\"#FF97FF\",\"#FECB52\"],\"font\":{\"color\":\"#2a3f5f\"},\"hovermode\":\"closest\",\"hoverlabel\":{\"align\":\"left\"},\"paper_bgcolor\":\"white\",\"plot_bgcolor\":\"#E5ECF6\",\"polar\":{\"bgcolor\":\"#E5ECF6\",\"angularaxis\":{\"gridcolor\":\"white\",\"linecolor\":\"white\",\"ticks\":\"\"},\"radialaxis\":{\"gridcolor\":\"white\",\"linecolor\":\"white\",\"ticks\":\"\"}},\"ternary\":{\"bgcolor\":\"#E5ECF6\",\"aaxis\":{\"gridcolor\":\"white\",\"linecolor\":\"white\",\"ticks\":\"\"},\"baxis\":{\"gridcolor\":\"white\",\"linecolor\":\"white\",\"ticks\":\"\"},\"caxis\":{\"gridcolor\":\"white\",\"linecolor\":\"white\",\"ticks\":\"\"}},\"coloraxis\":{\"colorbar\":{\"outlinewidth\":0,\"ticks\":\"\"}},\"colorscale\":{\"sequential\":[[0.0,\"#0d0887\"],[0.1111111111111111,\"#46039f\"],[0.2222222222222222,\"#7201a8\"],[0.3333333333333333,\"#9c179e\"],[0.4444444444444444,\"#bd3786\"],[0.5555555555555556,\"#d8576b\"],[0.6666666666666666,\"#ed7953\"],[0.7777777777777778,\"#fb9f3a\"],[0.8888888888888888,\"#fdca26\"],[1.0,\"#f0f921\"]],\"sequentialminus\":[[0.0,\"#0d0887\"],[0.1111111111111111,\"#46039f\"],[0.2222222222222222,\"#7201a8\"],[0.3333333333333333,\"#9c179e\"],[0.4444444444444444,\"#bd3786\"],[0.5555555555555556,\"#d8576b\"],[0.6666666666666666,\"#ed7953\"],[0.7777777777777778,\"#fb9f3a\"],[0.8888888888888888,\"#fdca26\"],[1.0,\"#f0f921\"]],\"diverging\":[[0,\"#8e0152\"],[0.1,\"#c51b7d\"],[0.2,\"#de77ae\"],[0.3,\"#f1b6da\"],[0.4,\"#fde0ef\"],[0.5,\"#f7f7f7\"],[0.6,\"#e6f5d0\"],[0.7,\"#b8e186\"],[0.8,\"#7fbc41\"],[0.9,\"#4d9221\"],[1,\"#276419\"]]},\"xaxis\":{\"gridcolor\":\"white\",\"linecolor\":\"white\",\"ticks\":\"\",\"title\":{\"standoff\":15},\"zerolinecolor\":\"white\",\"automargin\":true,\"zerolinewidth\":2},\"yaxis\":{\"gridcolor\":\"white\",\"linecolor\":\"white\",\"ticks\":\"\",\"title\":{\"standoff\":15},\"zerolinecolor\":\"white\",\"automargin\":true,\"zerolinewidth\":2},\"scene\":{\"xaxis\":{\"backgroundcolor\":\"#E5ECF6\",\"gridcolor\":\"white\",\"linecolor\":\"white\",\"showbackground\":true,\"ticks\":\"\",\"zerolinecolor\":\"white\",\"gridwidth\":2},\"yaxis\":{\"backgroundcolor\":\"#E5ECF6\",\"gridcolor\":\"white\",\"linecolor\":\"white\",\"showbackground\":true,\"ticks\":\"\",\"zerolinecolor\":\"white\",\"gridwidth\":2},\"zaxis\":{\"backgroundcolor\":\"#E5ECF6\",\"gridcolor\":\"white\",\"linecolor\":\"white\",\"showbackground\":true,\"ticks\":\"\",\"zerolinecolor\":\"white\",\"gridwidth\":2}},\"shapedefaults\":{\"line\":{\"color\":\"#2a3f5f\"}},\"annotationdefaults\":{\"arrowcolor\":\"#2a3f5f\",\"arrowhead\":0,\"arrowwidth\":1},\"geo\":{\"bgcolor\":\"white\",\"landcolor\":\"#E5ECF6\",\"subunitcolor\":\"white\",\"showland\":true,\"showlakes\":true,\"lakecolor\":\"white\"},\"title\":{\"x\":0.05},\"mapbox\":{\"style\":\"light\"}}},\"title\":{\"text\":\"embashul.fredy@gmail.com has (High risk) with a score of 66.66666666666666%\",\"x\":0.5},\"shapes\":[{\"line\":{\"color\":\"black\",\"dash\":\"dash\",\"width\":2},\"type\":\"line\",\"x0\":0,\"x1\":1,\"xref\":\"paper\",\"y0\":20,\"y1\":20}]},                        {\"responsive\": true}                    ).then(function(){\n",
              "                            \n",
              "var gd = document.getElementById('513eb49c-0837-425a-850b-19eb07ea8c7c');\n",
              "var x = new MutationObserver(function (mutations, observer) {{\n",
              "        var display = window.getComputedStyle(gd).display;\n",
              "        if (!display || display === 'none') {{\n",
              "            console.log([gd, 'removed!']);\n",
              "            Plotly.purge(gd);\n",
              "            observer.disconnect();\n",
              "        }}\n",
              "}});\n",
              "\n",
              "// Listen for the removal of the full notebook cells\n",
              "var notebookContainer = gd.closest('#notebook-container');\n",
              "if (notebookContainer) {{\n",
              "    x.observe(notebookContainer, {childList: true});\n",
              "}}\n",
              "\n",
              "// Listen for the clearing of the current output cell\n",
              "var outputEl = gd.closest('.output');\n",
              "if (outputEl) {{\n",
              "    x.observe(outputEl, {childList: true});\n",
              "}}\n",
              "\n",
              "                        })                };                            </script>        </div>\n",
              "</body>\n",
              "</html>"
            ]
          },
          "metadata": {}
        }
      ]
    }
  ]
}